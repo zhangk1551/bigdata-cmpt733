{
 "cells": [
  {
   "cell_type": "markdown",
   "metadata": {},
   "source": [
    "# Assignment 1-1: Web Scraping"
   ]
  },
  {
   "cell_type": "markdown",
   "metadata": {},
   "source": [
    "## Objective"
   ]
  },
  {
   "cell_type": "markdown",
   "metadata": {},
   "source": [
    "Data scientists often need to crawl data from websites and turn the crawled data (HTML pages) to structured data (tables). Thus, web scraping is an essential skill that every data scientist should master. In this assignment, you will learn the followings:\n",
    "\n",
    "\n",
    "* How to download HTML pages from a website?\n",
    "* How to extract relevant content from an HTML page? \n",
    "\n",
    "Furthermore, you will gain a deeper understanding of the data science lifecycle.\n",
    "\n",
    "**Requirements:**\n",
    "\n",
    "1. Please use [pandas.DataFrame](http://pandas.pydata.org/pandas-docs/stable/generated/pandas.DataFrame.html) rather than spark.DataFrame to manipulate data.\n",
    "\n",
    "2. Please use [BeautifulSoup](https://www.crummy.com/software/BeautifulSoup/) rather than [lxml](http://lxml.de/) to parse an HTML page and extract data from the page.\n",
    "\n",
    "3. Please follow the python code style (https://www.python.org/dev/peps/pep-0008/). If TA finds your code hard to read, you will lose points. This requirement will stay for the whole semester."
   ]
  },
  {
   "cell_type": "markdown",
   "metadata": {},
   "source": [
    "## Preliminary"
   ]
  },
  {
   "cell_type": "markdown",
   "metadata": {},
   "source": [
    "If this is your first time to write a web scraper, you need to learn some basic knowledge of this topic. I found that this is a good resource: [Tutorial: Web Scraping and BeautifulSoup](https://www.dataquest.io/blog/web-scraping-beautifulsoup/). \n",
    "\n",
    "Please let me know if you find a better resource. I'll share it with the other students."
   ]
  },
  {
   "cell_type": "markdown",
   "metadata": {},
   "source": [
    "## Overview"
   ]
  },
  {
   "cell_type": "markdown",
   "metadata": {},
   "source": [
    "Imagine you are a data scientist working at SFU. Your job is to extract insights from SFU data to answer questions. \n",
    "\n",
    "In this assignment, you will do two tasks. Please recall the high-level data science lifecycle below. I suggest that when doing this assignment, please remind yourself of what data you collected and what questions you tried to answer.\n",
    "\n",
    "\n",
    "<img src=\"lifecycle.png\" width=\"500\">\n",
    "<center><h4>Figure 1. Data Science Lifecycle</h4></center>"
   ]
  },
  {
   "cell_type": "markdown",
   "metadata": {},
   "source": [
    "## Task 1: SFU CS Faculty Members"
   ]
  },
  {
   "cell_type": "markdown",
   "metadata": {},
   "source": [
    "Sometimes you don't know what questions to ask. No worries. Start collecting data first. \n",
    "\n",
    "In Task 1, your job is to write a web scraper to extract the faculty information from this page: [https://www.sfu.ca/computing/people/faculty.html](https://www.sfu.ca/computing/people/faculty.html).\n",
    "\n",
    "\n"
   ]
  },
  {
   "cell_type": "markdown",
   "metadata": {},
   "source": [
    "### (a) Crawl Web Page"
   ]
  },
  {
   "cell_type": "markdown",
   "metadata": {},
   "source": [
    "A web page is essentially a file stored in a remote machine (called web server). Please write code to download the HTML page and save it as a text file (\"csfaculty.html\")."
   ]
  },
  {
   "cell_type": "code",
   "execution_count": null,
   "metadata": {},
   "outputs": [],
   "source": [
    "from requests import get\n",
    "url = 'https://www.sfu.ca/computing/people/faculty.html'\n",
    "response = get(url)\n",
    "\n",
    "f = open(\"csfaculty.html\", \"w\")\n",
    "f.write(response.text)\n",
    "f.close()"
   ]
  },
  {
   "cell_type": "markdown",
   "metadata": {},
   "source": [
    "### (b) Extract Structured Data"
   ]
  },
  {
   "cell_type": "markdown",
   "metadata": {},
   "source": [
    "Please write code to extract relevant content (name, rank, area, profile, homepage) from \"csfaculty.html\" and save them as a CSV file (like [faculty_table.csv](./faculty_table.csv)). "
   ]
  },
  {
   "cell_type": "code",
   "execution_count": null,
   "metadata": {},
   "outputs": [],
   "source": [
    "from bs4 import BeautifulSoup\n",
    "import pandas as pd\n",
    "import re\n",
    "\n",
    "html_soup = BeautifulSoup(response.text, 'html.parser')\n",
    "html_soup = BeautifulSoup(open(\"csfaculty.html\", 'r'), 'html.parser')\n",
    "\n",
    "def add_prefix(url):\n",
    "    if (len(url) > 0) and (not url.startswith('http')):\n",
    "        return 'https://www.sfu.ca' + url\n",
    "    return url\n",
    "\n",
    "professors = pd.DataFrame(columns=['name', 'rank', 'area', 'profile', 'homepage'])\n",
    "text_containers = html_soup.find_all('div', class_ = 'text')\n",
    "for text in text_containers:\n",
    "    try:\n",
    "        h4_items = text.h4.text.split(',')\n",
    "        p_items = text.find_all('p')\n",
    "        profile_link = text.find('a', text=re.compile('.*Profile.*')).get('href')\n",
    "        home_page = text.find('a', text=re.compile('.*Home Page.*'))\n",
    "        home_page_link = home_page.get('href') if (home_page) and (home_page.has_attr('href')) else \"\"\n",
    "        professors = professors.append({'name': h4_items[0].strip(),'rank': h4_items[1].strip(), 'area': p_items[0].text.split(':')[1].strip(), 'profile': add_prefix(profile_link), 'homepage': add_prefix(home_page_link)}, ignore_index=True)\n",
    "    except:\n",
    "        if text.h4:\n",
    "            h4_items = text.h4.text.split(',')\n",
    "            professor_name = text.h4.text.split(',')[0]\n",
    "            # Special treatments for data with special format.\n",
    "            if professor_name == 'Fred Popowich':             \n",
    "                p_items = text.find_all('p')\n",
    "                profile_link = text.find('a', text=re.compile('.*Profile.*')).get('href')\n",
    "                home_page_link = text.find('a', text=re.compile('.*Home Page.*')).get('href')\n",
    "                professors = professors.append({'name': h4_items[0].strip(),'rank': h4_items[1].split('Area:')[0].strip(), 'area': h4_items[1].split('Area:')[1].strip(), 'profile': add_prefix(profile_link), 'homepage': add_prefix(home_page_link)}, ignore_index=True)\n",
    "            if professor_name == 'Ryan Shea':\n",
    "                professors = professors.append({'name': h4_items[0].strip(),'rank': h4_items[1].split('Area:')[0].strip(), 'area': \"\", 'profile': \"\", 'homepage': \"\"}, ignore_index=True)\n",
    "professors.to_csv('faculty_table_new.csv', index=False)"
   ]
  },
  {
   "cell_type": "markdown",
   "metadata": {},
   "source": [
    "### (c) Interesting Finding"
   ]
  },
  {
   "cell_type": "markdown",
   "metadata": {},
   "source": [
    "Note that you don't need to do anything for Task 1(c). The purpose of this part is to give you some sense about how to leverage exploratory data analysis (EDA) to come up with interesting questions about the data. EDA is an important topic in data science; you will  learn it soon from this course. \n",
    "\n",
    "\n",
    "First, please install [dataprep](http://dataprep.ai).\n",
    "Then, run the cell below. \n",
    "It shows a bar chart for every column. What interesting findings can you get from these visualizations? "
   ]
  },
  {
   "cell_type": "code",
   "execution_count": null,
   "metadata": {},
   "outputs": [],
   "source": [
    "from dataprep.eda import plot\n",
    "import pandas as pd\n",
    "\n",
    "df = pd.read_csv(\"faculty_table.csv\")\n",
    "plot(df)"
   ]
  },
  {
   "cell_type": "markdown",
   "metadata": {},
   "source": [
    "Below are some examples:\n",
    "\n",
    "**Finding 1:** Professor# (26) is more than 2x larger than Associate Professor# (10). \n",
    "\n",
    "**Questions:** Why did it happen? Is it common in all CS schools in Canada? Will the gap go larger or smaller in five years? What actions can be taken to enlarge/shrink the gap?\n",
    "\n",
    "\n",
    "**Finding 2:** The Homepage has 23% missing values. \n",
    "\n",
    "**Questions:** Why are there so many missing values? Is it because many faculty do not have their own homepages or do not add their homepages to the school page? What actions can be taken to avoid this to happen in the future? "
   ]
  },
  {
   "cell_type": "markdown",
   "metadata": {},
   "source": [
    "## Task 2: Age Follows Normal Distribution?"
   ]
  },
  {
   "cell_type": "markdown",
   "metadata": {},
   "source": [
    "In this task, you start with a question and then figure out what data to collect.\n",
    "\n",
    "The question that you are interested in is `Does SFU CS faculty age follow a normal distribution?`\n",
    "\n",
    "To estimate the age of a faculty member, you can collect the year in which s/he graduates from a university (`gradyear`) and then estimate `age` using the following equation:\n",
    "\n",
    "$$age \\approx 2021+23 - gradyear$$\n",
    "\n",
    "For example, if one graduates from a university in 1990, then the age is estimated as 2021+23-1990 = 54. \n",
    "\n"
   ]
  },
  {
   "cell_type": "markdown",
   "metadata": {},
   "source": [
    "### (a) Crawl Web Page"
   ]
  },
  {
   "cell_type": "markdown",
   "metadata": {},
   "source": [
    "You notice that faculty profile pages contain graduation information. For example, you can see that Dr. Jiannan Wang graduated from Harbin Institute of Technology in 2008 at [http://www.sfu.ca/computing/people/faculty/jiannanwang.html](http://www.sfu.ca/computing/people/faculty/jiannanwang.html). \n",
    "\n",
    "\n",
    "Please write code to download the 65 profile pages and save each page as a text file. "
   ]
  },
  {
   "cell_type": "code",
   "execution_count": null,
   "metadata": {},
   "outputs": [],
   "source": [
    "from IPython.core.display import clear_output\n",
    "from time import time, sleep\n",
    "from random import randint\n",
    "import os \n",
    "import shutil\n",
    "\n",
    "profile_directory = 'profile_pages'\n",
    "\n",
    "if os.path.exists(profile_directory):\n",
    "    shutil.rmtree(profile_directory)\n",
    "os.mkdir(profile_directory) \n",
    "\n",
    "faculty_table_df = pd.read_csv('faculty_table_new.csv')\n",
    "start_time = time()\n",
    "requests = 0\n",
    "for profile in faculty_table_df['profile'].dropna():\n",
    "    if profile:\n",
    "        requests += 1\n",
    "        sleep(randint(2, 5))\n",
    "        # Use a VPN to access the web pages from China.\n",
    "        response = get(profile, timeout=20, proxies={\"https\": \"socks5://127.0.0.1:1080\"})\n",
    "        f = open(os.path.join(profile_directory, profile.split('/')[-1]), 'w')\n",
    "        f.write(response.text)\n",
    "        f.close()\n",
    "        current_time = time()\n",
    "        elapsed_time = current_time - start_time\n",
    "        print('Request: {}; Frequency: {} requests/s'.format(requests, requests/elapsed_time))\n",
    "        clear_output(wait = True)"
   ]
  },
  {
   "cell_type": "markdown",
   "metadata": {},
   "source": [
    "### (b) Extract Structured Data"
   ]
  },
  {
   "cell_type": "markdown",
   "metadata": {},
   "source": [
    "Please write code to extract the earliest graduation year (e.g., 2008 for Dr. Jiannan Wang) from each profile page, and create a csv file like [faculty_grad_year.csv](./faculty_grad_year.csv). "
   ]
  },
  {
   "cell_type": "code",
   "execution_count": null,
   "metadata": {},
   "outputs": [],
   "source": [
    "faculty_grad_year_df = pd.DataFrame(columns=['name', 'gradyear'])\n",
    "for index, row in faculty_table_df[['name', 'profile']].dropna().iterrows():\n",
    "    profile = row['profile']\n",
    "    profile_soup = BeautifulSoup(open(os.path.join(profile_directory, profile.split('/')[-1]), 'r'), 'html.parser')    \n",
    "    if row['name'] == 'Alaa Alameldeen':\n",
    "        education_line = profile_soup.find('p', text=re.compile('Education.*'))\n",
    "    else:\n",
    "        education_line = profile_soup.find('h2', text=re.compile('Education.*'))\n",
    "    if education_line:\n",
    "        years = re.findall('\\d{4}', str(education_line.parent()))\n",
    "        if len(years) > 0:\n",
    "            faculty_grad_year_df = faculty_grad_year_df.append({'name': row['name'], 'gradyear':min(years)}, ignore_index=True)\n",
    "        else:\n",
    "            faculty_grad_year_df = faculty_grad_year_df.append({'name': row['name'], 'gradyear':None}, ignore_index=True)\n",
    "    else:                \n",
    "            faculty_grad_year_df = faculty_grad_year_df.append({'name': row['name'], 'gradyear':None}, ignore_index=True)        \n",
    "faculty_grad_year_df.to_csv('faculty_grad_year_new.csv')"
   ]
  },
  {
   "cell_type": "markdown",
   "metadata": {},
   "source": [
    "### (c) Interesting Finding"
   ]
  },
  {
   "cell_type": "markdown",
   "metadata": {},
   "source": [
    "Similar to Task 1(c), you don't need to do anything here. Just look at different visualizations w.r.t. age and give yourself an answer to the question: `Does SFU CS faculty age follow a normal distribution?`"
   ]
  },
  {
   "cell_type": "code",
   "execution_count": null,
   "metadata": {
    "scrolled": true
   },
   "outputs": [],
   "source": [
    "from dataprep.eda import plot\n",
    "import pandas as pd\n",
    "\n",
    "df = pd.read_csv(\"faculty_grad_year.csv\")\n",
    "df[\"age\"] = 2021+23-df[\"gradyear\"]\n",
    "\n",
    "plot(df, \"age\")"
   ]
  },
  {
   "cell_type": "markdown",
   "metadata": {},
   "source": [
    "## Submission"
   ]
  },
  {
   "cell_type": "markdown",
   "metadata": {},
   "source": [
    "Complete the code in this notebook, and submit it to the CourSys activity `Assignment 1`."
   ]
  },
  {
   "cell_type": "markdown",
   "metadata": {},
   "source": [
    "## Bonus: Contribute to DataPrep"
   ]
  },
  {
   "cell_type": "markdown",
   "metadata": {},
   "source": [
    "**Total Bonus: 0.2 + 0.3 = 0.5**\n",
    "\n",
    "1. If you create an issue (i.e., report a bug or request a feature) at [link1](https://github.com/sfu-db/dataprep/issues), you will get **0.2** bonus points.\n",
    "\n",
    "2.  Creating more issues will *not* give you more bonus points, but you are encouraged to do so for learning more.\n",
    "\n",
    "2. If you send a pull request (i.e., fix a bug or implement a feature) at [link1](https://github.com/sfu-db/dataprep/pulls) and the pull request gets merged into the repo, you will get **0.3** bonus points. \n",
    "\n",
    "4.  Sending more pull requests will *not* give you more bonus points, but you are encouraged to do so for learning more.\n",
    "\n",
    "5. These bonus points will be directly added to your final grade.\n",
    "\n",
    "\n",
    "\n",
    "\n",
    "\n",
    "\n",
    "**How to Submit**\n",
    "* Submit github link(s) to the CourSys activity `Bonus`.\n",
    "* Due on `March 14, 2021`\n",
    "\n",
    "If you love dataprep, please support it by simply clicking the **<span style=\"color:red\">Star</span>** on [Github](https://github.com/sfu-db/dataprep).\n",
    "<img src=\"dataprep-star-2021.png\" width=\"1000\">"
   ]
  }
 ],
 "metadata": {
  "kernelspec": {
   "display_name": "Python 3",
   "language": "python",
   "name": "python3"
  },
  "language_info": {
   "codemirror_mode": {
    "name": "ipython",
    "version": 3
   },
   "file_extension": ".py",
   "mimetype": "text/x-python",
   "name": "python",
   "nbconvert_exporter": "python",
   "pygments_lexer": "ipython3",
   "version": "3.9.1"
  }
 },
 "nbformat": 4,
 "nbformat_minor": 4
}
