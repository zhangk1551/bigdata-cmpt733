{
 "cells": [
  {
   "cell_type": "markdown",
   "metadata": {},
   "source": [
    "# Assignment 1-2: Data Collection Using Web APIs"
   ]
  },
  {
   "cell_type": "markdown",
   "metadata": {},
   "source": [
    "## Objective"
   ]
  },
  {
   "cell_type": "markdown",
   "metadata": {},
   "source": [
    "Many Websites (such as Twitter, Yelp, Spotify) provide free APIs to allow users to access their data. *API wrappers* simplify the use of these APIs by wrapping API calls into easy-to-use Python functions. At SFU, we are developing a unified API wrapper, called [DataPrep.Connector](https://github.com/sfu-db/dataprep#connector), which offers a unified programming interface to collect data from a variety of Web APIs.\n",
    "\n",
    "In this assignment, you will learn the followings:\n",
    "\n",
    "* How to ask insightful questions about data\n",
    "* How to collect data from Web APIs using DataPrep.Connector\n",
    "\n",
    "**Requirements:**\n",
    "\n",
    "1. Please use [pandas.DataFrame](http://pandas.pydata.org/pandas-docs/stable/generated/pandas.DataFrame.html) rather than spark.DataFrame to manipulate data.\n",
    "\n",
    "2. Please follow the python code style (https://www.python.org/dev/peps/pep-0008/). If TA finds your code hard to read, you will lose points. This requirement will stay for the whole semester."
   ]
  },
  {
   "cell_type": "markdown",
   "metadata": {},
   "source": [
    "## Preliminary"
   ]
  },
  {
   "cell_type": "markdown",
   "metadata": {},
   "source": [
    "DataPrep.Connector is very easy to learn. By watching this 10-min [PyData Global 2020 talk](https://www.youtube.com/watch?v=56qu-0Ka-dA), you should be able to know how to use it. \n",
    "\n",
    "If you want to know more, below are some other useful resources.\n",
    "\n",
    "* [Quick Introduction](https://github.com/sfu-db/dataprep#connector)\n",
    "* [User Guide](https://sfu-db.github.io/dataprep/user_guide/connector/connector.html) \n",
    "* [Fetch and analyze COVID-19 tweets using DataPrep](https://www.youtube.com/watch?v=vvypQB3Vp1o)"
   ]
  },
  {
   "cell_type": "markdown",
   "metadata": {},
   "source": [
    "## Overview"
   ]
  },
  {
   "cell_type": "markdown",
   "metadata": {},
   "source": [
    "This is a **group** assignment. Please check which API your group will work on from this [page](https://coursys.sfu.ca/2021sp-cmpt-733-g1/pages/Web-API-Assignment/view).  Your group needs to first come up with $n$ questions about a Web API and then write code to answer them one by one, where $n = 6$ if your group has three members and $n = 4$ if your group has two members.\n",
    "\n",
    "For example, Sakina, Vignesh, and Wen Han will form one group and they need to come up with 6 questions about the Etsy API and write code to answer them. Chuan-Yun, Krince will form one group and they need to come up with 4 questions about the Guardian API and write code to answer them."
   ]
  },
  {
   "cell_type": "markdown",
   "metadata": {},
   "source": [
    "## How to do this assignment?"
   ]
  },
  {
   "cell_type": "markdown",
   "metadata": {},
   "source": [
    "The first thing is to come up with a list of **good questions**. Please use the following to judge whether a list of questions are good or not.\n",
    "\n",
    "1. Good questions need to be useful. That is, they are common questions asked about the API.\n",
    "2. Good questions need to be diverse. That is, they cover different aspects of the API. \n",
    "3. Good questions have to cover different difficulty levels. That is, it consists of both easy and difficult questions,  where the difficulty can be measured by the number of lines of code or the number of input parameters.\n",
    "\n",
    "Suppose that your group is assigned to work on the Yelp API. The following shows a list of 4 good questions. The corresponding code for these questions can be found at this [link](https://github.com/sfu-db/DataConnectorConfigs#yelp----collect-local-business-data)."
   ]
  },
  {
   "cell_type": "markdown",
   "metadata": {},
   "source": [
    "* Q1. What's the phone number of Capilano Suspension Bridge Park?\n",
    "* Q2. Which yoga store has the highest review count in Vancouver?\n",
    "* Q3. How many Starbucks stores in Seattle and where are they?\n",
    "* Q4. What are the ratings for a list of restaurants?"
   ]
  },
  {
   "cell_type": "markdown",
   "metadata": {},
   "source": [
    "**Why are they useful?**\n",
    "* Q1 is useful because \"Capilano Suspension Bridge Park\" is one of the most popular tourist attractions in Vancouver.\n",
    "* Q2 is useful because a yoga fan want to find out the most popular yoga store in Vancouver. \n",
    "* Q3 is useful because Starbucks was founded in Seattle.\n",
    "* Q4 is useful because people often rely on yelp ratings to decide which restaurant to go to."
   ]
  },
  {
   "cell_type": "markdown",
   "metadata": {},
   "source": [
    "**Why are they diverse?**\n",
    "\n",
    "This is because the [code](yelp-code.png) written to answer them has different inputs or outputs.\n",
    "* Q1 takes `term` and `location` as input and returns 1 record with attributes `name` and `phone` \n",
    "* Q2 takes `categories`, `location`, and `sort_by` as input and returns 1 record with attributes `name` and `review_count`\n",
    "* Q3 takes `term` and `location` as input and returns n records with attributes `name`, `address`, `city`, `state`, `country`, `zipcode`\n",
    "* Q4 takes a list of retarurant `names` as input and return n records with attributes `name`, `rating`, `city`"
   ]
  },
  {
   "cell_type": "markdown",
   "metadata": {},
   "source": [
    "**Why are they more and more difficult?**\n",
    "* Q1 (4 lines of code, 2 query parameters)\n",
    "* Q2 (4 lines of code, 3 query parameters)\n",
    "* Q3 (5 lines of code, 2 query parameters)\n",
    "* Q4 (11 lines of code, 2 query parameters)"
   ]
  },
  {
   "cell_type": "markdown",
   "metadata": {},
   "source": [
    "Please note that you have to use DataPrep.Connector to get data from the Web API. If DataPrep.Connector cannot meet your needs, please post your questions on Canvas. We will help you. "
   ]
  },
  {
   "cell_type": "markdown",
   "metadata": {},
   "source": [
    "## Now, it's your turn. :) "
   ]
  },
  {
   "cell_type": "markdown",
   "metadata": {},
   "source": [
    "Please write down your questions and the corresponding code for your assigned API. "
   ]
  },
  {
   "cell_type": "code",
   "execution_count": 1,
   "metadata": {},
   "outputs": [],
   "source": [
    "from dataprep.connector import connect\n",
    "import asyncio\n",
    "import pandas as pd\n",
    "import numpy as np\n",
    "from numpy import radians, sin, cos, arctan2, sqrt\n",
    "    \n",
    "# Provide your API key here for TAs to reproduce your results\n",
    "KEY = 'YDo3Kc9VANlqx1muCD0FlWAAh4gfRC9G'\n",
    "\n",
    "SFU_LOC = '-122.90416, 49.27647'\n",
    "BC_BBOX = \"-139.06,48.30,-114.03,60.00\"\n",
    "VAN_BBOX = '-123.27,49.195,-123.020,49.315'\n",
    "METRO_TOWN = [-122.9987, 49.2250]\n",
    "SHOPPING = 'sic:565101,sic:651201,sic:566101,sic:531102'\n",
    "GROCERY = 'sic:541105'\n",
    "\n",
    "\n",
    "conn = connect(\"./mapquest\", _auth={\"access_token\": KEY}, _concurrency = 10)"
   ]
  },
  {
   "cell_type": "markdown",
   "metadata": {},
   "source": [
    "### Q1: Where is the Simon Fraser University? Give all the places if there is more than one campus. "
   ]
  },
  {
   "cell_type": "code",
   "execution_count": 2,
   "metadata": {},
   "outputs": [
    {
     "data": {
      "text/html": [
       "<div>\n",
       "<style scoped>\n",
       "    .dataframe tbody tr th:only-of-type {\n",
       "        vertical-align: middle;\n",
       "    }\n",
       "\n",
       "    .dataframe tbody tr th {\n",
       "        vertical-align: top;\n",
       "    }\n",
       "\n",
       "    .dataframe thead th {\n",
       "        text-align: right;\n",
       "    }\n",
       "</style>\n",
       "<table border=\"1\" class=\"dataframe\">\n",
       "  <thead>\n",
       "    <tr style=\"text-align: right;\">\n",
       "      <th></th>\n",
       "      <th>index</th>\n",
       "      <th>name</th>\n",
       "      <th>country</th>\n",
       "      <th>state</th>\n",
       "      <th>city</th>\n",
       "      <th>address</th>\n",
       "      <th>postalCode</th>\n",
       "      <th>coordinates</th>\n",
       "      <th>details</th>\n",
       "    </tr>\n",
       "  </thead>\n",
       "  <tbody>\n",
       "    <tr>\n",
       "      <th>0</th>\n",
       "      <td>0</td>\n",
       "      <td>Simon Fraser University</td>\n",
       "      <td>CA</td>\n",
       "      <td>BC</td>\n",
       "      <td>Burnaby</td>\n",
       "      <td>8888 University Drive E</td>\n",
       "      <td>V5A 1S6</td>\n",
       "      <td>[-122.90416, 49.27647]</td>\n",
       "      <td>Simon Fraser University, 8888 University Drive...</td>\n",
       "    </tr>\n",
       "    <tr>\n",
       "      <th>1</th>\n",
       "      <td>2</td>\n",
       "      <td>Simon Fraser University</td>\n",
       "      <td>CA</td>\n",
       "      <td>BC</td>\n",
       "      <td>Vancouver</td>\n",
       "      <td>602 Hastings St W</td>\n",
       "      <td>V6B 1P2</td>\n",
       "      <td>[-123.113431, 49.284626]</td>\n",
       "      <td>Simon Fraser University, 602 Hastings St W, Va...</td>\n",
       "    </tr>\n",
       "  </tbody>\n",
       "</table>\n",
       "</div>"
      ],
      "text/plain": [
       "   index                     name country state       city  \\\n",
       "0      0  Simon Fraser University      CA    BC    Burnaby   \n",
       "1      2  Simon Fraser University      CA    BC  Vancouver   \n",
       "\n",
       "                   address postalCode               coordinates  \\\n",
       "0  8888 University Drive E    V5A 1S6    [-122.90416, 49.27647]   \n",
       "1        602 Hastings St W    V6B 1P2  [-123.113431, 49.284626]   \n",
       "\n",
       "                                             details  \n",
       "0  Simon Fraser University, 8888 University Drive...  \n",
       "1  Simon Fraser University, 602 Hastings St W, Va...  "
      ]
     },
     "execution_count": 2,
     "metadata": {},
     "output_type": "execute_result"
    }
   ],
   "source": [
    "campus = await conn.query(\"place\", q = \"Simon Fraser University\", sort = \"relevance\", bbox = BC_BBOX, _count = 50)\n",
    "campus = campus[campus[\"name\"] == \"Simon Fraser University\"].reset_index()\n",
    "campus.head()"
   ]
  },
  {
   "cell_type": "markdown",
   "metadata": {},
   "source": [
    "From the list above, we see that according to MapQuest, there are two campuses of Simon Fraser University, one located at 8888 University Drive E, Burnaby, and the other one located at 602 Hastings St W, Vancouver."
   ]
  },
  {
   "cell_type": "markdown",
   "metadata": {},
   "source": [
    "### Q2: How many KFC are there in Burnaby? What are their address?"
   ]
  },
  {
   "cell_type": "code",
   "execution_count": 3,
   "metadata": {},
   "outputs": [
    {
     "name": "stdout",
     "output_type": "stream",
     "text": [
      "There are 1 KFCs in Burnaby\n",
      "Their addresses are:\n"
     ]
    },
    {
     "data": {
      "text/html": [
       "<div>\n",
       "<style scoped>\n",
       "    .dataframe tbody tr th:only-of-type {\n",
       "        vertical-align: middle;\n",
       "    }\n",
       "\n",
       "    .dataframe tbody tr th {\n",
       "        vertical-align: top;\n",
       "    }\n",
       "\n",
       "    .dataframe thead th {\n",
       "        text-align: right;\n",
       "    }\n",
       "</style>\n",
       "<table border=\"1\" class=\"dataframe\">\n",
       "  <thead>\n",
       "    <tr style=\"text-align: right;\">\n",
       "      <th></th>\n",
       "      <th>index</th>\n",
       "      <th>name</th>\n",
       "      <th>country</th>\n",
       "      <th>state</th>\n",
       "      <th>city</th>\n",
       "      <th>address</th>\n",
       "      <th>postalCode</th>\n",
       "      <th>coordinates</th>\n",
       "      <th>details</th>\n",
       "    </tr>\n",
       "  </thead>\n",
       "  <tbody>\n",
       "    <tr>\n",
       "      <th>0</th>\n",
       "      <td>81</td>\n",
       "      <td>KFC</td>\n",
       "      <td>CA</td>\n",
       "      <td>BC</td>\n",
       "      <td>Burnaby</td>\n",
       "      <td>5094 Kingsway</td>\n",
       "      <td>V5H 2E7</td>\n",
       "      <td>[-122.990545, 49.225227]</td>\n",
       "      <td>KFC, 5094 Kingsway, Burnaby, BC V5H 2E7</td>\n",
       "    </tr>\n",
       "  </tbody>\n",
       "</table>\n",
       "</div>"
      ],
      "text/plain": [
       "   index name country state     city        address postalCode  \\\n",
       "0     81  KFC      CA    BC  Burnaby  5094 Kingsway    V5H 2E7   \n",
       "\n",
       "                coordinates                                  details  \n",
       "0  [-122.990545, 49.225227]  KFC, 5094 Kingsway, Burnaby, BC V5H 2E7  "
      ]
     },
     "execution_count": 3,
     "metadata": {},
     "output_type": "execute_result"
    }
   ],
   "source": [
    "kfc = await conn.query(\"place\", q = \"KFC\", sort = \"relevance\", bbox = BC_BBOX, _count = 500)\n",
    "kfc = kfc[(kfc[\"name\"] == \"KFC\") & (kfc[\"city\"] == \"Burnaby\")].reset_index()\n",
    "print(\"There are %d KFCs in Burnaby\" % len(kfc))\n",
    "print(\"Their addresses are:\")\n",
    "kfc"
   ]
  },
  {
   "cell_type": "markdown",
   "metadata": {},
   "source": [
    "### Q3 The ratio of Starbucks to Tim Hortons in Vancouver?"
   ]
  },
  {
   "cell_type": "code",
   "execution_count": 4,
   "metadata": {},
   "outputs": [
    {
     "name": "stderr",
     "output_type": "stream",
     "text": [
      "/home/jack/anaconda3/envs/bigdata/lib/python3.7/site-packages/dataprep/connector/connector.py:372: RuntimeWarning: Query parameter page=1 is overriden by {ikey}={instantiated_fields[ikey]}\n",
      "  RuntimeWarning,\n",
      "/home/jack/anaconda3/envs/bigdata/lib/python3.7/site-packages/dataprep/connector/connector.py:372: RuntimeWarning: Query parameter pageSize=50 is overriden by {ikey}={instantiated_fields[ikey]}\n",
      "  RuntimeWarning,\n",
      "/home/jack/anaconda3/envs/bigdata/lib/python3.7/site-packages/dataprep/connector/connector.py:372: RuntimeWarning: Query parameter page=4 is overriden by {ikey}={instantiated_fields[ikey]}\n",
      "  RuntimeWarning,\n",
      "/home/jack/anaconda3/envs/bigdata/lib/python3.7/site-packages/dataprep/connector/connector.py:372: RuntimeWarning: Query parameter page=3 is overriden by {ikey}={instantiated_fields[ikey]}\n",
      "  RuntimeWarning,\n",
      "/home/jack/anaconda3/envs/bigdata/lib/python3.7/site-packages/dataprep/connector/connector.py:372: RuntimeWarning: Query parameter page=2 is overriden by {ikey}={instantiated_fields[ikey]}\n",
      "  RuntimeWarning,\n"
     ]
    },
    {
     "name": "stdout",
     "output_type": "stream",
     "text": [
      "The ratio of Starbucks:Tim Hortons in Vancouver is 188:120\n"
     ]
    }
   ],
   "source": [
    "starbucks = await conn.query('place', q='starbucks', sort='relevance', bbox=VAN_BBOX, page='1', pageSize = '50', _count=200)\n",
    "timmys = await conn.query('place', q='Tim Hortons', sort='relevance', bbox=VAN_BBOX, page='1', pageSize = '50', _count=200)\n",
    "\n",
    "is_vancouver_sb = starbucks['city'] == 'Vancouver'\n",
    "is_vancouver_tim = timmys['city'] == 'Vancouver'\n",
    "sb_in_van = starbucks[is_vancouver_sb]\n",
    "tim_in_van = timmys[is_vancouver_tim]\n",
    "print('The ratio of Starbucks:Tim Hortons in Vancouver is %d:%d' % (len(sb_in_van), len(tim_in_van)))"
   ]
  },
  {
   "cell_type": "markdown",
   "metadata": {},
   "source": [
    "### Q4 What is the closest gas station from Metropolist and how far is it?"
   ]
  },
  {
   "cell_type": "code",
   "execution_count": 5,
   "metadata": {},
   "outputs": [
    {
     "name": "stdout",
     "output_type": "stream",
     "text": [
      "Metropolist is 0.376580km from the nearest gas station\n",
      "The gas station is Chevron at 4692 Imperial St\n"
     ]
    }
   ],
   "source": [
    "def distance_in_km(cord1, cord2):\n",
    "    R = 6373.0\n",
    "\n",
    "    lat1 = radians(cord1[1])\n",
    "    lon1 = radians(cord1[0])\n",
    "    lat2 = radians(cord2[1])\n",
    "    lon2 = radians(cord2[0])\n",
    "\n",
    "    dlon = lon2 - lon1\n",
    "    dlat = lat2 - lat1\n",
    "\n",
    "    a = sin(dlat / 2)**2 + cos(lat1) * cos(lat2) * sin(dlon / 2)**2\n",
    "    c = 2 * arctan2(sqrt(a), sqrt(1 - a))\n",
    "    distance = R * c\n",
    "\n",
    "    return(distance)\n",
    "\n",
    "\n",
    "METRO_TOWN_string = '%f,%f' % (METRO_TOWN[0], METRO_TOWN[1])\n",
    "nearest_petro = await conn.query('place', q='gas station', sort='distance', location=METRO_TOWN_string, page='1', pageSize = '1')\n",
    "print('Metropolist is %fkm from the nearest gas station' % distance_in_km(METRO_TOWN, nearest_petro['coordinates'][0]))\n",
    "print('The gas station is %s at %s' % (nearest_petro['name'][0], nearest_petro['address'][0]))"
   ]
  },
  {
   "cell_type": "markdown",
   "metadata": {},
   "source": [
    "### Q5 Assume the place with the more shopping malls is more prosperous. In BC, which city has the most amount of shopping centers?"
   ]
  },
  {
   "cell_type": "code",
   "execution_count": 6,
   "metadata": {},
   "outputs": [
    {
     "data": {
      "text/plain": [
       "city\n",
       "Vancouver          42\n",
       "Victoria           24\n",
       "Surrey             15\n",
       "Burnaby            14\n",
       "Richmond           13\n",
       "Langley            10\n",
       "Kelowna            10\n",
       "Nanaimo             9\n",
       "Abbotsford          8\n",
       "North Vancouver     8\n",
       "Name: name, dtype: int64"
      ]
     },
     "execution_count": 6,
     "metadata": {},
     "output_type": "execute_result"
    }
   ],
   "source": [
    "shop_list = await conn.query(\"place\", sort=\"relevance\", bbox=BC_BBOX, category=GROCERY,_count = 500)\n",
    "shop_list = shop_list[shop_list[\"state\"] == \"BC\"]\n",
    "shop_list.groupby('city')['name'].count().sort_values(ascending=False).head(10)"
   ]
  },
  {
   "cell_type": "markdown",
   "metadata": {},
   "source": [
    "Vancouver has 42 shopping centers,which is the most amount."
   ]
  },
  {
   "cell_type": "markdown",
   "metadata": {},
   "source": [
    "### Q6 Where is the nearest grocery of SFU? How many miles far? And how much time estimated for driving?"
   ]
  },
  {
   "cell_type": "code",
   "execution_count": 7,
   "metadata": {},
   "outputs": [
    {
     "name": "stdout",
     "output_type": "stream",
     "text": [
      "The nearest grocery of SFU is Nesters Market. It is 1.234 miles far, and It is expected to take 3m21s of driving.\n",
      "Route:\n",
      "Start out going east on University Dr toward Arts Rd. for 0.348 miles.\n",
      "Turn left to stay on University Dr. for 0.606 miles.\n",
      "Enter next roundabout and take the 1st exit onto University High St. for 0.28 miles.\n",
      "9000 UNIVERSITY HIGH STREET is on the left.\n"
     ]
    },
    {
     "data": {
      "text/html": [
       "<div>\n",
       "<style scoped>\n",
       "    .dataframe tbody tr th:only-of-type {\n",
       "        vertical-align: middle;\n",
       "    }\n",
       "\n",
       "    .dataframe tbody tr th {\n",
       "        vertical-align: top;\n",
       "    }\n",
       "\n",
       "    .dataframe thead th {\n",
       "        text-align: right;\n",
       "    }\n",
       "</style>\n",
       "<table border=\"1\" class=\"dataframe\">\n",
       "  <thead>\n",
       "    <tr style=\"text-align: right;\">\n",
       "      <th></th>\n",
       "      <th>index</th>\n",
       "      <th>narrative</th>\n",
       "      <th>distance</th>\n",
       "      <th>time</th>\n",
       "    </tr>\n",
       "  </thead>\n",
       "  <tbody>\n",
       "    <tr>\n",
       "      <th>0</th>\n",
       "      <td>0</td>\n",
       "      <td>Start out going east on University Dr toward A...</td>\n",
       "      <td>0.348</td>\n",
       "      <td>57</td>\n",
       "    </tr>\n",
       "    <tr>\n",
       "      <th>1</th>\n",
       "      <td>1</td>\n",
       "      <td>Turn left to stay on University Dr.</td>\n",
       "      <td>0.606</td>\n",
       "      <td>84</td>\n",
       "    </tr>\n",
       "    <tr>\n",
       "      <th>2</th>\n",
       "      <td>2</td>\n",
       "      <td>Enter next roundabout and take the 1st exit on...</td>\n",
       "      <td>0.28</td>\n",
       "      <td>60</td>\n",
       "    </tr>\n",
       "    <tr>\n",
       "      <th>3</th>\n",
       "      <td>3</td>\n",
       "      <td>9000 UNIVERSITY HIGH STREET is on the left.</td>\n",
       "      <td>0</td>\n",
       "      <td>0</td>\n",
       "    </tr>\n",
       "  </tbody>\n",
       "</table>\n",
       "</div>"
      ],
      "text/plain": [
       "  index                                          narrative distance time\n",
       "0     0  Start out going east on University Dr toward A...    0.348   57\n",
       "1     1                Turn left to stay on University Dr.    0.606   84\n",
       "2     2  Enter next roundabout and take the 1st exit on...     0.28   60\n",
       "3     3        9000 UNIVERSITY HIGH STREET is on the left.        0    0"
      ]
     },
     "execution_count": 7,
     "metadata": {},
     "output_type": "execute_result"
    }
   ],
   "source": [
    "nearest_grocery = await conn.query(\"place\", location=SFU_LOC, sort=\"distance\", category=GROCERY)\n",
    "destination = nearest_grocery.iloc[0]['details']\n",
    "name = nearest_grocery.iloc[0]['name']\n",
    "\n",
    "route = await conn.query(\"route\", from_='8888 University Drive E, Burnaby', to=destination)\n",
    "total_distance = sum([float(i)for i in route.iloc[:]['distance']])\n",
    "total_time = sum([int(i)for i in route.iloc[:]['time']])\n",
    "narrative = ''\n",
    "for i in range(len(route) - 1):\n",
    "    narrative = narrative + route.iloc[i]['narrative'] + ' for ' + route.iloc[i]['distance'] + ' miles.\\n'\n",
    "narrative += route.iloc[-1]['narrative']\n",
    "\n",
    "print('The nearest grocery of SFU is ' + name + '. It is ' + str(total_distance) + ' miles far, and It is expected to take ' + str(total_time // 60) + 'm' + str(total_time % 60)+'s of driving.')\n",
    "print('Route:\\n' + narrative)\n",
    "route"
   ]
  },
  {
   "cell_type": "markdown",
   "metadata": {},
   "source": [
    "## Submission"
   ]
  },
  {
   "cell_type": "markdown",
   "metadata": {},
   "source": [
    "Complete this notebook, rename it to `A1-2-[WEB API Name].ipynb`, and submit it to the CourSys activity `Assignment 1`. For example, if your group works on Twitter, then **every member of your group** needs to submit the same notebook named `A1-2-Twitter.ipynb`."
   ]
  }
 ],
 "metadata": {
  "kernelspec": {
   "display_name": "Python 3",
   "language": "python",
   "name": "python3"
  },
  "language_info": {
   "codemirror_mode": {
    "name": "ipython",
    "version": 3
   },
   "file_extension": ".py",
   "mimetype": "text/x-python",
   "name": "python",
   "nbconvert_exporter": "python",
   "pygments_lexer": "ipython3",
   "version": "3.9.1"
  }
 },
 "nbformat": 4,
 "nbformat_minor": 4
}
